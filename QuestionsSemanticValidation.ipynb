{
  "nbformat": 4,
  "nbformat_minor": 0,
  "metadata": {
    "colab": {
      "provenance": [],
      "authorship_tag": "ABX9TyO+g3fb6TS7QidlR5Lb0jbR",
      "include_colab_link": true
    },
    "kernelspec": {
      "name": "python3",
      "display_name": "Python 3"
    },
    "language_info": {
      "name": "python"
    }
  },
  "cells": [
    {
      "cell_type": "markdown",
      "metadata": {
        "id": "view-in-github",
        "colab_type": "text"
      },
      "source": [
        "<a href=\"https://colab.research.google.com/github/tubagokhan/RegNLPDataset/blob/main/QuestionsSemanticValidation.ipynb\" target=\"_parent\"><img src=\"https://colab.research.google.com/assets/colab-badge.svg\" alt=\"Open In Colab\"/></a>"
      ]
    },
    {
      "cell_type": "code",
      "source": [
        "!pip install replicate"
      ],
      "metadata": {
        "colab": {
          "base_uri": "https://localhost:8080/"
        },
        "id": "lqqUu1DlPzQF",
        "outputId": "b78e9da8-7eb1-46c1-dc88-75a95a42b4a5"
      },
      "execution_count": 4,
      "outputs": [
        {
          "output_type": "stream",
          "name": "stdout",
          "text": [
            "Requirement already satisfied: replicate in /usr/local/lib/python3.10/dist-packages (0.24.0)\n",
            "Requirement already satisfied: httpx<1,>=0.21.0 in /usr/local/lib/python3.10/dist-packages (from replicate) (0.27.0)\n",
            "Requirement already satisfied: packaging in /usr/local/lib/python3.10/dist-packages (from replicate) (23.2)\n",
            "Requirement already satisfied: pydantic>1 in /usr/local/lib/python3.10/dist-packages (from replicate) (2.6.3)\n",
            "Requirement already satisfied: typing-extensions>=4.5.0 in /usr/local/lib/python3.10/dist-packages (from replicate) (4.10.0)\n",
            "Requirement already satisfied: anyio in /usr/local/lib/python3.10/dist-packages (from httpx<1,>=0.21.0->replicate) (3.7.1)\n",
            "Requirement already satisfied: certifi in /usr/local/lib/python3.10/dist-packages (from httpx<1,>=0.21.0->replicate) (2024.2.2)\n",
            "Requirement already satisfied: httpcore==1.* in /usr/local/lib/python3.10/dist-packages (from httpx<1,>=0.21.0->replicate) (1.0.4)\n",
            "Requirement already satisfied: idna in /usr/local/lib/python3.10/dist-packages (from httpx<1,>=0.21.0->replicate) (3.6)\n",
            "Requirement already satisfied: sniffio in /usr/local/lib/python3.10/dist-packages (from httpx<1,>=0.21.0->replicate) (1.3.1)\n",
            "Requirement already satisfied: h11<0.15,>=0.13 in /usr/local/lib/python3.10/dist-packages (from httpcore==1.*->httpx<1,>=0.21.0->replicate) (0.14.0)\n",
            "Requirement already satisfied: annotated-types>=0.4.0 in /usr/local/lib/python3.10/dist-packages (from pydantic>1->replicate) (0.6.0)\n",
            "Requirement already satisfied: pydantic-core==2.16.3 in /usr/local/lib/python3.10/dist-packages (from pydantic>1->replicate) (2.16.3)\n",
            "Requirement already satisfied: exceptiongroup in /usr/local/lib/python3.10/dist-packages (from anyio->httpx<1,>=0.21.0->replicate) (1.2.0)\n"
          ]
        }
      ]
    },
    {
      "cell_type": "code",
      "execution_count": 5,
      "metadata": {
        "id": "eQ0_LsqoO3Vx"
      },
      "outputs": [],
      "source": [
        "import json\n",
        "import replicate\n",
        "import os\n",
        "\n",
        "os.environ[\"REPLICATE_API_TOKEN\"] = \"r8_Pe2gdrG2twzsplKh50q6a5Hv6jPJFKj2YvDHC\"\n",
        "llama2_13b = \"meta/llama-2-13b-chat:f4e2de70d66816a838a89eeeb621910adffb0dd0baba3976c96980970978018d\"\n",
        "\n",
        "def validate_question(question):\n",
        "    # Updated prompt format\n",
        "    prompt_chat = f\"\"\"\n",
        "    QUESTION: {question}\n",
        "    ANSWER:\n",
        "    \"\"\"\n",
        "    # System prompt for semantic validation remains the same\n",
        "    system_prompt = \"Perform a semantic validation of the question provided. Give one digit response: '1' if the question is VALID or '0' if it is INVALID.\"\n",
        "\n",
        "    # Call the model to perform validation (conceptual, not executable here)\n",
        "    output = replicate.run(\n",
        "        llama2_13b,\n",
        "        input={\"system_prompt\": system_prompt,\n",
        "               \"prompt\": prompt_chat,\n",
        "               \"temperature\": 0.75,\n",
        "               \"max_new_tokens\": 100}\n",
        "    )\n",
        "\n",
        "    # Assuming the output is a list of strings, join them to form a single response\n",
        "    response = \"\".join(output)\n",
        "    if \"1\" in response:\n",
        "        return True\n",
        "    elif \"0\" in response:\n",
        "        print(question)\n",
        "        return False\n",
        "    else:\n",
        "        return None\n",
        "\n"
      ]
    },
    {
      "cell_type": "code",
      "source": [
        "# Load questions from the JSON file\n",
        "with open(\"COBS_VER15.150823_questions_contexts.json\", \"r\") as file:\n",
        "    questions_data = json.load(file)\n",
        "\n",
        "# Open the output file in write mode\n",
        "with open(\"validation_results_incremental.json\", \"w\") as outfile:\n",
        "    # Start a JSON array in the output file\n",
        "    outfile.write(\"[\\n\")\n",
        "\n",
        "    # Iterate over each question in the JSON data\n",
        "    for index, item in enumerate(questions_data):\n",
        "        question = item[\"Question\"]\n",
        "\n",
        "        # Validate the question using the provided method\n",
        "        is_valid = validate_question(question)\n",
        "\n",
        "        # Prepare the result dictionary\n",
        "        result = {\n",
        "            \"ContextID\": item[\"ContextID\"],\n",
        "            \"Question\": question,\n",
        "            \"IsValid\": is_valid\n",
        "        }\n",
        "\n",
        "        # Convert the result dictionary to a JSON string\n",
        "        result_json = json.dumps(result, indent=4)\n",
        "\n",
        "        # Write the result to the output file, followed by a comma unless it's the last item\n",
        "        outfile.write(result_json)\n",
        "        if index < len(questions_data) - 1:\n",
        "            outfile.write(\",\\n\")\n",
        "        else:\n",
        "            outfile.write(\"\\n\")\n",
        "\n",
        "    # End the JSON array in the output file\n",
        "    outfile.write(\"]\")\n",
        "\n",
        "print(\"Validation complete, results saved to validation_results_incremental.json\")"
      ],
      "metadata": {
        "colab": {
          "base_uri": "https://localhost:8080/"
        },
        "id": "qN3T6RR5YG91",
        "outputId": "ef9d2843-4d58-4e08-f61b-603c990092bf"
      },
      "execution_count": 8,
      "outputs": [
        {
          "output_type": "stream",
          "name": "stdout",
          "text": [
            "What are the limitations of the client relationship between an Authorised Person with a Representative Office Financial Services Permission and a Person to whom it markets a Specified Investment?\n",
            "Validation complete, results saved to validation_results_incremental.json\n"
          ]
        }
      ]
    },
    {
      "cell_type": "code",
      "source": [
        "'''\n",
        "# Example usage\n",
        "questions = [\n",
        "    \"Is the color of happiness loud?\",\n",
        "    \"How much does a shadow weigh at night?\",\n",
        "    \"Can time jump backwards on a whim?\",\n",
        "    \"Do ideas grow on trees in spring?\",\n",
        "    \"Is silence louder than sound?\",\n",
        "    \"Can the moon swim in the ocean?\",\n",
        "    \"Do numbers feel happy or sad?\",\n",
        "    \"Is yesterday faster than tomorrow?\",\n",
        "    \"Can a thought be eaten for dinner?\",\n",
        "    \"Do stars listen to music?\"\n",
        "    \"What is the speed of light?\",\n",
        "    \"How many planets are in the Solar System?\",\n",
        "    \"Can a wooden chair photosynthesize?\",\n",
        "    \"What is the chemical formula for water?\",\n",
        "    \"Is the sky green on Tuesdays?\",\n",
        "    \"Who wrote 'Romeo and Juliet'?\",\n",
        "    \"Do fish climb trees during summer?\",\n",
        "    \"What causes the seasons to change?\",\n",
        "    \"Are unicorns native to Antarctica?\",\n",
        "    \"How does photosynthesis work?\",\n",
        "    \"When does the color blue weigh more than a dream?\",\n",
        "    \"Can yesterday run faster than tomorrow?\",\n",
        "    \"How much wood would a woodchuck chuck if a woodchuck could chuck wood in a vacuum?\",\n",
        "    \"Is the square root of an apple pie delicious?\",\n",
        "    \"Do shadows dream of chasing light?\",\n",
        "    \"Can time jump over space on a leap year?\",\n",
        "    \"What is the sound of one hand typing?\",\n",
        "    \"Are thoughts heavier in the morning or at night?\",\n",
        "    \"Do ideas grow on trees in the digital world?\",\n",
        "    \"Is the Internet powered by dreams?\"\n",
        "]\n",
        "\n",
        "# Testing each invalid question with the validate_question method\n",
        "for question in questions:\n",
        "    result = validate_question(question)  # This would be the call to your validation method\n",
        "    print(f\"Question: '{question}' is {result}\") '''\n"
      ],
      "metadata": {
        "colab": {
          "base_uri": "https://localhost:8080/",
          "height": 122
        },
        "id": "JbkST0IHX56B",
        "outputId": "41ff47cd-cb50-4bde-b031-85c879ed9f37"
      },
      "execution_count": 7,
      "outputs": [
        {
          "output_type": "execute_result",
          "data": {
            "text/plain": [
              "'\\n# Example usage\\nquestions = [\\n    \"Is the color of happiness loud?\",\\n    \"How much does a shadow weigh at night?\",\\n    \"Can time jump backwards on a whim?\",\\n    \"Do ideas grow on trees in spring?\",\\n    \"Is silence louder than sound?\",\\n    \"Can the moon swim in the ocean?\",\\n    \"Do numbers feel happy or sad?\",\\n    \"Is yesterday faster than tomorrow?\",\\n    \"Can a thought be eaten for dinner?\",\\n    \"Do stars listen to music?\"\\n    \"What is the speed of light?\",\\n    \"How many planets are in the Solar System?\",\\n    \"Can a wooden chair photosynthesize?\",\\n    \"What is the chemical formula for water?\",\\n    \"Is the sky green on Tuesdays?\",\\n    \"Who wrote \\'Romeo and Juliet\\'?\",\\n    \"Do fish climb trees during summer?\",\\n    \"What causes the seasons to change?\",\\n    \"Are unicorns native to Antarctica?\",\\n    \"How does photosynthesis work?\",\\n    \"When does the color blue weigh more than a dream?\",\\n    \"Can yesterday run faster than tomorrow?\",\\n    \"How much wood would a woodchuck chuck if a woodchuck could chuck wood in a vacuum?\",\\n    \"Is the square root of an apple pie delicious?\",\\n    \"Do shadows dream of chasing light?\",\\n    \"Can time jump over space on a leap year?\",\\n    \"What is the sound of one hand typing?\",\\n    \"Are thoughts heavier in the morning or at night?\",\\n    \"Do ideas grow on trees in the digital world?\",\\n    \"Is the Internet powered by dreams?\"\\n]\\n\\n# Testing each invalid question with the validate_question method\\nfor question in questions:\\n    result = validate_question(question)  # This would be the call to your validation method\\n    print(f\"Question: \\'{question}\\' is {result}\") '"
            ],
            "application/vnd.google.colaboratory.intrinsic+json": {
              "type": "string"
            }
          },
          "metadata": {},
          "execution_count": 7
        }
      ]
    }
  ]
}